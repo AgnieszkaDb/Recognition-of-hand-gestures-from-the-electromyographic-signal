{
 "cells": [
  {
   "cell_type": "code",
   "execution_count": 11,
   "metadata": {},
   "outputs": [
    {
     "name": "stderr",
     "output_type": "stream",
     "text": [
      "  0%|          | 0/27 [00:00<?, ?it/s]"
     ]
    },
    {
     "name": "stderr",
     "output_type": "stream",
     "text": [
      "100%|██████████| 27/27 [00:06<00:00,  4.21it/s]\n"
     ]
    },
    {
     "name": "stdout",
     "output_type": "stream",
     "text": [
      "Shape of aggregated_data: (13230, 661, 11)\n",
      "Saved aggregated data to aggregated_emg_data.mat\n"
     ]
    }
   ],
   "source": [
    "import os\n",
    "import numpy as np\n",
    "from tqdm import tqdm\n",
    "from scipy.io import loadmat, savemat\n",
    "from sklearn.model_selection import train_test_split\n",
    "\n",
    "root_dir = '/home/agn/studia/magisterka/kopia_dockera/Datasets/Datasets/Ninapro-DB1'\n",
    "rows_padding = 661\n",
    "cols = 11\n",
    "\n",
    "\n",
    "def load_and_aggregate_data(root_dir):\n",
    "    aggregated_data = []\n",
    "\n",
    "    for patient in tqdm(os.listdir(root_dir)):\n",
    "        patient_dir = os.path.join(root_dir, patient)\n",
    "        if os.path.isdir(patient_dir):\n",
    "\n",
    "            for gesture in os.listdir(patient_dir):\n",
    "                gesture_dir = os.path.join(patient_dir, gesture)\n",
    "                if gesture == \"gesture-00\": break\n",
    "                if os.path.isdir(gesture_dir):\n",
    "                    for rep_file in os.listdir(gesture_dir):\n",
    "                        if rep_file.endswith('.mat'):\n",
    "                            output_emg_array = np.zeros((rows_padding, cols))\n",
    "                            rep_path = os.path.join(gesture_dir, rep_file)\n",
    "                            \n",
    "                            data = loadmat(rep_path)\n",
    "                            emg_data = data['emg']\n",
    "                            label = data['stimulus']\n",
    "                            \n",
    "                            combined_data = np.hstack((emg_data, label))\n",
    "                            output_emg_array[:combined_data.shape[0], :] = combined_data\n",
    "\n",
    "                        aggregated_data.append(output_emg_array)\n",
    "\n",
    "    return aggregated_data\n",
    "\n",
    "aggregated_data = load_and_aggregate_data(root_dir)\n",
    "\n",
    "print(\"Shape of aggregated_data:\", np.array(aggregated_data).shape)\n",
    "\n",
    "save_path = 'aggregated_emg_data.mat'\n",
    "savemat(save_path, {'aggregated_data': aggregated_data})\n",
    "print(f'Saved aggregated data to {save_path}')\n"
   ]
  },
  {
   "cell_type": "code",
   "execution_count": 7,
   "metadata": {},
   "outputs": [],
   "source": [
    "X = np.array(aggregated_data)[:, :, :10]\n",
    "y = np.array(aggregated_data)[:, :, 10]\n"
   ]
  },
  {
   "cell_type": "code",
   "execution_count": 4,
   "metadata": {},
   "outputs": [],
   "source": [
    "X_train, X_test, y_train, y_test = train_test_split(X, y, test_size=0.33, random_state=42)\n",
    "\n",
    "data_dict = {\n",
    "    'X_train': X_train,\n",
    "    'X_test': X_test,\n",
    "    'y_train': y_train,\n",
    "    'y_test': y_test\n",
    "}"
   ]
  },
  {
   "cell_type": "code",
   "execution_count": 19,
   "metadata": {},
   "outputs": [
    {
     "name": "stdout",
     "output_type": "stream",
     "text": [
      "X_train (8864, 10, 661)\n",
      "Saved X_train to X_train.mat \n",
      "\n",
      "X_test (4366, 10, 661)\n",
      "Saved X_test to X_test.mat \n",
      "\n",
      "y_train (8864,)\n",
      "Saved y_train to y_train.mat \n",
      "\n",
      "y_test (4366,)\n",
      "Saved y_test to y_test.mat \n",
      "\n"
     ]
    }
   ],
   "source": [
    "def save_mat(var_name, var_value):\n",
    "    try: \n",
    "        var_value = np.transpose(var_value, (0, 2, 1))\n",
    "    except:\n",
    "        var_value = (np.transpose(var_value, (1, 0)))[0]\n",
    "\n",
    "    print(var_name, var_value.shape)\n",
    "    file_name = f\"{var_name}.mat\"\n",
    "    savemat(os.path.join(\".\", file_name), {var_name: var_value})\n",
    "\n",
    "    print(f\"Saved {var_name} to {file_name} \\n\")\n",
    "\n",
    "\n",
    "for var_name, var_value in data_dict.items():\n",
    "    save_mat(var_name, var_value)"
   ]
  }
 ],
 "metadata": {
  "kernelspec": {
   "display_name": "Python 3",
   "language": "python",
   "name": "python3"
  },
  "language_info": {
   "codemirror_mode": {
    "name": "ipython",
    "version": 3
   },
   "file_extension": ".py",
   "mimetype": "text/x-python",
   "name": "python",
   "nbconvert_exporter": "python",
   "pygments_lexer": "ipython3",
   "version": "3.8.10"
  }
 },
 "nbformat": 4,
 "nbformat_minor": 2
}
